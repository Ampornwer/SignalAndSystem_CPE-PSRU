{
 "cells": [
  {
   "cell_type": "markdown",
   "metadata": {},
   "source": [
    "## ThinkDSP\n",
    "\n",
    "ตัวอย่าง code สำหรับบทที่ 3: สัญญาณไม่มีคาบ(Non-periodic signals)\n",
    "\n",
    "ลิขสิทธิ์ของ Allen Downey (2015) แปลและเรียบเรียงโดย Sunun Tati (2020)\n"
   ]
  },
  {
   "cell_type": "code",
   "execution_count": null,
   "metadata": {},
   "outputs": [],
   "source": [
    "from __future__ import print_function, division\n",
    "\n",
    "%matplotlib inline\n",
    "\n",
    "import thinkdsp\n",
    "import thinkplot\n",
    "import numpy as np\n",
    "\n",
    "from ipywidgets import interact, interactive, fixed\n",
    "import ipywidgets as widgets"
   ]
  },
  {
   "cell_type": "markdown",
   "metadata": {},
   "source": [
    "### Chirp\n",
    "\n",
    "สร้าง linear chirp ตั้งแต่ A3 ถึง A5"
   ]
  },
  {
   "cell_type": "code",
   "execution_count": null,
   "metadata": {},
   "outputs": [],
   "source": [
    "signal = thinkdsp.Chirp(start=220, end=880)\n",
    "wave1 = signal.make_wave(duration=2)\n",
    "wave1.make_audio()"
   ]
  },
  {
   "cell_type": "markdown",
   "metadata": {},
   "source": [
    "ตัดส่วนของสัญญาณคลื่นที่อยู่ใกล้จุดเริ่มต้นแล้วนำมาพล็อต"
   ]
  },
  {
   "cell_type": "code",
   "execution_count": null,
   "metadata": {},
   "outputs": [],
   "source": [
    "wave1.segment(start=0, duration=0.01).plot()"
   ]
  },
  {
   "cell_type": "markdown",
   "metadata": {},
   "source": [
    "ตัดส่วนของสัญญาณคลื่นที่อยู่ใกล้จุดสิ้นสุดแล้วนำมาพล็อต"
   ]
  },
  {
   "cell_type": "code",
   "execution_count": null,
   "metadata": {},
   "outputs": [],
   "source": [
    "wave1.segment(start=0.9, duration=0.01).plot()"
   ]
  },
  {
   "cell_type": "markdown",
   "metadata": {},
   "source": [
    "นี่คือ Exponential chirp ที่มีช่วงความถี่และระยะเวลาเท่ากัน"
   ]
  },
  {
   "cell_type": "code",
   "execution_count": null,
   "metadata": {},
   "outputs": [],
   "source": [
    "signal = thinkdsp.ExpoChirp(start=220, end=880)\n",
    "wave2 = signal.make_wave(duration=2)\n",
    "wave2.make_audio()"
   ]
  },
  {
   "cell_type": "markdown",
   "metadata": {},
   "source": [
    "## สเปกโตรแกรม (spectrogram)\n",
    "สเปกโตรแกรม (spectrogram) เป็นรูปคลื่นสัญญาณหลังผ่านกระบวนการแปลงข้อมูลให้อยู่ในรูปแบบที่สามารถนำไปวิเคราะห์ได้โดยพิจารณาความถี่เป็นหลัก กล่าวคือรูปคลื่นสัญญาณหลังผ่านการ Discrete Fourier transform ทำให้เราสามารถมองเห็นความแตกต่างของสเปกตรัมในช่วงเวลาหนึ่งได้\n",
    "\n",
    "ืnote. Time domain ไปเป็น Frequency domain"
   ]
  },
  {
   "cell_type": "code",
   "execution_count": null,
   "metadata": {},
   "outputs": [],
   "source": [
    "def plot_spectrogram(wave, seg_length):\n",
    "    spectrogram = wave.make_spectrogram(seg_length)\n",
    "    print('Time resolution (s)', spectrogram.time_res)\n",
    "    print('Frequency resolution (Hz)', spectrogram.freq_res)\n",
    "    spectrogram.plot(high=700)\n",
    "    thinkplot.show(xlabel='Time(s)', ylabel='Frequency (Hz)')"
   ]
  },
  {
   "cell_type": "code",
   "execution_count": null,
   "metadata": {},
   "outputs": [],
   "source": [
    "signal = thinkdsp.Chirp(start=220, end=440)\n",
    "wave = signal.make_wave(duration=1, framerate=11025)\n",
    "plot_spectrogram(wave, 512)"
   ]
  },
  {
   "cell_type": "markdown",
   "metadata": {},
   "source": [
    "หากเราเพิ่มความยาวของส่วนย่อย (segment length) เราจะได้ความละเอียดในเชิงความถี่ (frequency resolution) ที่ดีกว่า ในขณะที่ได้ความละเอียดในเชิงเวลา(time resolution) ที่แย่กว่า"
   ]
  },
  {
   "cell_type": "code",
   "execution_count": null,
   "metadata": {},
   "outputs": [],
   "source": [
    "plot_spectrogram(wave, 1024)"
   ]
  },
  {
   "cell_type": "markdown",
   "metadata": {},
   "source": [
    "หากเราลดความยาวของส่วนย่อย (segment length) เราจะได้ความละเอียดในเชิงเวลา(time resolution) ที่ดีกว่า ในขณะที่ได้ความละเอียดในเชิงความถี่ (frequency resolution) ที่แย่กว่า\n"
   ]
  },
  {
   "cell_type": "code",
   "execution_count": null,
   "metadata": {},
   "outputs": [],
   "source": [
    "plot_spectrogram(wave, 256)"
   ]
  },
  {
   "cell_type": "code",
   "execution_count": null,
   "metadata": {},
   "outputs": [],
   "source": []
  }
 ],
 "metadata": {
  "kernelspec": {
   "display_name": "Python 3",
   "language": "python",
   "name": "python3"
  },
  "language_info": {
   "codemirror_mode": {
    "name": "ipython",
    "version": 3
   },
   "file_extension": ".py",
   "mimetype": "text/x-python",
   "name": "python",
   "nbconvert_exporter": "python",
   "pygments_lexer": "ipython3",
   "version": "3.6.3"
  }
 },
 "nbformat": 4,
 "nbformat_minor": 1
}
