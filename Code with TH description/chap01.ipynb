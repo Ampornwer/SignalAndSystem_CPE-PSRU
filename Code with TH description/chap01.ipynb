{
 "cells": [
  {
   "cell_type": "markdown",
   "metadata": {},
   "source": [
    "## ThinkDSP\n",
    "\n",
    "ตัวอย่าง code สำหรับบทที่ 1: เสียงและสัญญาณ (Sounds and Signals)\n",
    "\n",
    "ลิขสิทธิ์ของ Allen Downey (2015) \n",
    "แปลและเรียบเรียงโดย Sunun Tati (2020)"
   ]
  },
  {
   "cell_type": "markdown",
   "metadata": {},
   "source": [
    "### สัญญาณ(Signals)\n",
    "\n",
    "โมดูลที่ใช้เพื่อศึกษาลักษณะของสัญญาณ\n",
    "\n",
    "* `thinkdsp` เป็นโมดูลที่เตรียมไว้ในชุดโมดูล _Think DSP_ สำหรับใช้ในชั้นเรียนและเพื่อการประยุกต์เพื่อเขียนโปรแกรมสำหรับการวิเคราะห์สัญญาณ(Signals)\n",
    "\n",
    "* `thinkplot` เป็นโมดูลที่สร้างจาก matplotlib เพื่อนำมาใช้เพื่อสร้างกราฟของสัญญาณในรูปแบบต่างๆ เอกสารอธิบายโมดูลdsp module is here](http://greenteapress.com/thinkdsp.html). "
   ]
  },
  {
   "cell_type": "code",
   "execution_count": null,
   "metadata": {
    "collapsed": true
   },
   "outputs": [],
   "source": [
    "from __future__ import print_function, division\n",
    "\n",
    "%matplotlib inline\n",
    "\n",
    "import thinkdsp\n",
    "import thinkplot\n",
    "\n",
    "import numpy as np\n",
    "\n",
    "from ipywidgets import interact, interactive, fixed\n",
    "import ipywidgets as widgets\n",
    "from IPython.display import display"
   ]
  },
  {
   "cell_type": "markdown",
   "metadata": {},
   "source": [
    "ตัวอย่างการสร้างสัญญาณโคไซน์และไซน์ (cosine and sine)"
   ]
  },
  {
   "cell_type": "code",
   "execution_count": null,
   "metadata": {
    "collapsed": true
   },
   "outputs": [],
   "source": [
    "cos_sig = thinkdsp.CosSignal(freq=440, amp=1.0, offset=0)\n",
    "sin_sig = thinkdsp.SinSignal(freq=880, amp=0.5, offset=0)"
   ]
  },
  {
   "cell_type": "markdown",
   "metadata": {},
   "source": [
    "วาดรูปสัญญาณ(Plot) สัญญาณโคไซน์และไซน์ (cosine and sine) โดยใช้คำสั่ง `plot` \n",
    "ตัวอย่างแสดงการวาดรูปสัญญาณ(Plot) 3 คาบ  "
   ]
  },
  {
   "cell_type": "code",
   "execution_count": null,
   "metadata": {},
   "outputs": [],
   "source": [
    "cos_sig.plot()\n",
    "thinkplot.config(xlabel='Time (s)')"
   ]
  },
  {
   "cell_type": "markdown",
   "metadata": {},
   "source": [
    "นักศึกษาจะสังเกตเห็นว่า ความถี่(frequency) ของสัญญาณไซน์(sine)เพิ่มเป็นสองเท่า ส่งผลให้คาบจะลดลงครึ่งหนึ่ง"
   ]
  },
  {
   "cell_type": "code",
   "execution_count": null,
   "metadata": {},
   "outputs": [],
   "source": [
    "sin_sig.plot()\n",
    "thinkplot.config(xlabel='Time (s)')"
   ]
  },
  {
   "cell_type": "markdown",
   "metadata": {},
   "source": [
    "การรวมสองสัญญาณเข้าด้วยกัน - SumSignal\n",
    "[ใช้การนำตัวแปรที่เก็บค่าสัญญาณมา + กัน]"
   ]
  },
  {
   "cell_type": "code",
   "execution_count": null,
   "metadata": {},
   "outputs": [],
   "source": [
    "mix = sin_sig + cos_sig\n",
    "mix"
   ]
  },
  {
   "cell_type": "markdown",
   "metadata": {},
   "source": [
    "เอกสารอธิบายสำหรับ `thinkdsp.py`: http://greenteapress.com/thinkdsp/thinkdsp.html"
   ]
  },
  {
   "cell_type": "markdown",
   "metadata": {},
   "source": [
    "### คลื่น(Waves)\n",
    "\n",
    "สัญญาณหมายถึงฟังก์ชั่นทางคณิตศาสตร์(mathematical function) ที่ถูกกำหนดค่าในทุกช่วงเวลา ถ้านักศึกษา  If you evaluate a signal at a sequence of equally-spaced times, the result is a Wave.  `framerate` is the number of samples per second."
   ]
  },
  {
   "cell_type": "code",
   "execution_count": null,
   "metadata": {},
   "outputs": [],
   "source": [
    "wave = mix.make_wave(duration=0.5, start=0, framerate=11025)\n",
    "wave"
   ]
  },
  {
   "cell_type": "markdown",
   "metadata": {},
   "source": [
    "IPython เป็นส่วนเสริมสำหรับสัญญาณเสียง (Audio widget)ที่ ทำให้สามารถ แสดงข้อมูลคลื่นออกมาในรูปแบบของเสียง"
   ]
  },
  {
   "cell_type": "code",
   "execution_count": null,
   "metadata": {},
   "outputs": [],
   "source": [
    "from IPython.display import Audio\n",
    "audio = Audio(data=wave.ys, rate=wave.framerate)\n",
    "audio"
   ]
  },
  {
   "cell_type": "markdown",
   "metadata": {},
   "source": [
    "`make_audio()`คือฟังก์ชั่นสำหรับสร้างเสียง"
   ]
  },
  {
   "cell_type": "code",
   "execution_count": null,
   "metadata": {},
   "outputs": [],
   "source": [
    "wave.make_audio()"
   ]
  },
  {
   "cell_type": "markdown",
   "metadata": {},
   "source": [
    "ตัวแปร `ys` เป็นอาเรย์น(NumPy array) ที่เก็บค่าของสัญญาณไว้  "
   ]
  },
  {
   "cell_type": "code",
   "execution_count": null,
   "metadata": {},
   "outputs": [],
   "source": [
    "print('Number of samples', len(wave.ys))\n",
    "print('Timestep in ms', 1 / wave.framerate * 1000)"
   ]
  },
  {
   "cell_type": "markdown",
   "metadata": {},
   "source": [
    "สัญญาณที่สร้างในตัวอย่างเป็นสัญญาณแบบมีคาบ (periodic signals) \n",
    "คลื่นถูกแบ่งออกเป็นส่วนย่อย(`segment`) ซึ่งถูกนำไปเก็บค่าใหม่\n",
    "ตัวอย่างต่อไปนี้ คือ การสร้างคลื่นขึ้นมาใหม่ด้วยการแบ่งคลื่นเป็นส่วนย่อยโดยส่วนย่อยดังกล่าวมีความยาว 3 คาบ (3 period segment)"
   ]
  },
  {
   "cell_type": "code",
   "execution_count": null,
   "metadata": {},
   "outputs": [],
   "source": [
    "period = mix.period\n",
    "segment = wave.segment(start=0, duration=period*3)\n",
    "period"
   ]
  },
  {
   "cell_type": "markdown",
   "metadata": {},
   "source": [
    "จากนั้นทดลอง Plot ส่วนย่อยดังกล่าวขึ้นมา  `plot`"
   ]
  },
  {
   "cell_type": "code",
   "execution_count": null,
   "metadata": {},
   "outputs": [],
   "source": [
    "segment.plot()\n",
    "thinkplot.config(xlabel='Time (s)')"
   ]
  },
  {
   "cell_type": "markdown",
   "metadata": {},
   "source": [
    "`normalize` ใช้จำกัดคลื่นเพื่อให้ช่วงไม่เกิน -1 ถึง 1 \n",
    "\n",
    "`apodize` ใช้ตัดจุดเริ่มต้นและจุดสิ้นสุดของคลื่น it doesn't click when you play it."
   ]
  },
  {
   "cell_type": "code",
   "execution_count": null,
   "metadata": {},
   "outputs": [],
   "source": [
    "wave.normalize()\n",
    "wave.apodize()\n",
    "wave.plot()\n",
    "thinkplot.config(xlabel='Time (s)')"
   ]
  },
  {
   "cell_type": "markdown",
   "metadata": {},
   "source": [
    "นำออกสัญญาณคลื่นออกมาในรูปแบบไฟล์ WAV file"
   ]
  },
  {
   "cell_type": "code",
   "execution_count": null,
   "metadata": {},
   "outputs": [],
   "source": [
    "wave.write('temp.wav')"
   ]
  },
  {
   "cell_type": "markdown",
   "metadata": {},
   "source": [
    "`wave.write` ใช้สำหรับการเขียนข้อมูลออกมาเป็นไฟล์ซึ่งสามารถนำไปเล่นผ่านเครื่องมือเล่นเพลงภายนอก(exernal player)"
   ]
  },
  {
   "cell_type": "code",
   "execution_count": null,
   "metadata": {
    "collapsed": true
   },
   "outputs": [],
   "source": [
    "thinkdsp.play_wave(filename='temp.wav', player='aplay')"
   ]
  },
  {
   "cell_type": "markdown",
   "metadata": {},
   "source": [
    "`read_wave` ใช้สำหรับอ่านไฟล์ WAV files ."
   ]
  },
  {
   "cell_type": "code",
   "execution_count": null,
   "metadata": {
    "collapsed": true
   },
   "outputs": [],
   "source": [
    "wave = thinkdsp.read_wave('92002__jcveliz__violin-origional.wav')"
   ]
  },
  {
   "cell_type": "code",
   "execution_count": null,
   "metadata": {},
   "outputs": [],
   "source": [
    "wave.make_audio()"
   ]
  },
  {
   "cell_type": "markdown",
   "metadata": {},
   "source": [
    "ตัดส่วนของเพลงที่เลือกมาในตัวอย่าง เพื่อให้สามารมเห็นรูปคลื่นได้ชัดเจน"
   ]
  },
  {
   "cell_type": "code",
   "execution_count": null,
   "metadata": {},
   "outputs": [],
   "source": [
    "start = 1.2\n",
    "duration = 0.6\n",
    "segment = wave.segment(start, duration)\n",
    "segment.plot()\n",
    "thinkplot.config(xlabel='Time (s)')"
   ]
  },
  {
   "cell_type": "markdown",
   "metadata": {},
   "source": [
    "### สเปคตรัม(Spectrums)\n",
    "\n",
    "`make_spectrum` ใช้สำหรับนำคลื่นสัญญาณใน Time domain เปลี่ยนเป็น Frequency domain"
   ]
  },
  {
   "cell_type": "code",
   "execution_count": null,
   "metadata": {
    "collapsed": true
   },
   "outputs": [],
   "source": [
    "spectrum = segment.make_spectrum()"
   ]
  },
  {
   "cell_type": "markdown",
   "metadata": {},
   "source": [
    "จากนั้นนำสเปคตรัม(Spectrums) ไป `plot`"
   ]
  },
  {
   "cell_type": "code",
   "execution_count": null,
   "metadata": {},
   "outputs": [],
   "source": [
    "spectrum.plot()\n",
    "thinkplot.config(xlabel='Frequency (Hz)')"
   ]
  },
  {
   "cell_type": "markdown",
   "metadata": {},
   "source": [
    "ส่วนของคลื่นที่มีความถี่สูงกว่า 10 kHz มีจำนวนน้อยมาก เราสามารถดูความถี่ที่ต่ำกว่าได้ชัดเจนยิ่งขึ้นโดยการกำหนดขอบเขตบน"
   ]
  },
  {
   "cell_type": "code",
   "execution_count": null,
   "metadata": {},
   "outputs": [],
   "source": [
    "spectrum.plot(high=10000)\n",
    "thinkplot.config(xlabel='Frequency (Hz)')"
   ]
  },
  {
   "cell_type": "markdown",
   "metadata": {},
   "source": [
    "เราสามารถประยุกต์ใช้ `low_pass` สำหรับการทำ low pass filter\n",
    "ความถี่ที่มากกว่าขอบเขตที่กำหนดจะถูกตัดออกไป"
   ]
  },
  {
   "cell_type": "code",
   "execution_count": null,
   "metadata": {
    "collapsed": true
   },
   "outputs": [],
   "source": [
    "spectrum.low_pass(3000)"
   ]
  },
  {
   "cell_type": "markdown",
   "metadata": {},
   "source": [
    "ผลที่คือสเปคตรัม(Spectrums)ของสัญญาณความถี่น้อยกว่าที่ขอบเขตกำหนด"
   ]
  },
  {
   "cell_type": "code",
   "execution_count": null,
   "metadata": {},
   "outputs": [],
   "source": [
    "spectrum.plot(high=10000)\n",
    "thinkplot.config(xlabel='Frequency (Hz)')"
   ]
  },
  {
   "cell_type": "markdown",
   "metadata": {},
   "source": [
    "เมื่อนำสเปคตรัม(Spectrums)ที่ผ่านการทำ filtered แปลงกลับเป็นสัญญาณคลื่น "
   ]
  },
  {
   "cell_type": "code",
   "execution_count": null,
   "metadata": {
    "collapsed": true
   },
   "outputs": [],
   "source": [
    "filtered = spectrum.make_wave()"
   ]
  },
  {
   "cell_type": "markdown",
   "metadata": {},
   "source": [
    "และจำกัดขอบเขตให้มีความสูงระหว่าง -1 - 1"
   ]
  },
  {
   "cell_type": "code",
   "execution_count": null,
   "metadata": {
    "collapsed": true
   },
   "outputs": [],
   "source": [
    "filtered.normalize()"
   ]
  },
  {
   "cell_type": "markdown",
   "metadata": {},
   "source": [
    "และตัดช่วงเริ่มต้นและสิ้นสุด"
   ]
  },
  {
   "cell_type": "code",
   "execution_count": null,
   "metadata": {},
   "outputs": [],
   "source": [
    "filtered.apodize()\n",
    "filtered.plot()\n",
    "thinkplot.config(xlabel='Time (s)')"
   ]
  },
  {
   "cell_type": "markdown",
   "metadata": {},
   "source": [
    "จากนั้นนำมา Plot"
   ]
  },
  {
   "cell_type": "code",
   "execution_count": null,
   "metadata": {},
   "outputs": [],
   "source": [
    "segment.normalize()\n",
    "segment.apodize()\n",
    "segment.plot()\n",
    "thinkplot.config(xlabel='Time (s)')"
   ]
  },
  {
   "cell_type": "markdown",
   "metadata": {},
   "source": [
    "ท้ายที่สุดลองสร้างเสียงและฟังเสียงที่ได้เปรียบเทียบกัน"
   ]
  },
  {
   "cell_type": "code",
   "execution_count": null,
   "metadata": {},
   "outputs": [],
   "source": [
    "segment.make_audio()"
   ]
  },
  {
   "cell_type": "code",
   "execution_count": null,
   "metadata": {},
   "outputs": [],
   "source": [
    "filtered.make_audio()"
   ]
  }
 ],
 "metadata": {
  "kernelspec": {
   "display_name": "Python 3",
   "language": "python",
   "name": "python3"
  },
  "language_info": {
   "codemirror_mode": {
    "name": "ipython",
    "version": 3
   },
   "file_extension": ".py",
   "mimetype": "text/x-python",
   "name": "python",
   "nbconvert_exporter": "python",
   "pygments_lexer": "ipython3",
   "version": "3.7.4"
  }
 },
 "nbformat": 4,
 "nbformat_minor": 1
}
