{
 "cells": [
  {
   "cell_type": "markdown",
   "metadata": {},
   "source": [
    "## ThinkDSP\n",
    "\n",
    "ตัวอย่าง code สำหรับบทที่ 2: ฮาร์มอนิกส์(Harmonics)\n",
    "\n",
    "ลิขสิทธิ์ของ Allen Downey (2015) \n",
    "แปลและเรียบเรียงโดย Sunun Tati (2020)"
   ]
  },
  {
   "cell_type": "code",
   "execution_count": null,
   "metadata": {},
   "outputs": [],
   "source": [
    "from __future__ import print_function, division\n",
    "\n",
    "%matplotlib inline\n",
    "\n",
    "import thinkdsp\n",
    "import thinkplot\n",
    "\n",
    "from ipywidgets import interact, interactive, fixed\n",
    "import ipywidgets as widgets\n",
    "from IPython.display import display"
   ]
  },
  {
   "cell_type": "markdown",
   "metadata": {},
   "source": [
    "## รูปสัญญาณคลื่น (Waveforms) และ  ฮาร์มอนิกส์ (Harmonics)\n",
    "สร้างสัญญาณรูปสามเหลี่ยม(triangle signal) และพล็อตส่วนย่อยของสัญญาณจำนวน 3 คาบ"
   ]
  },
  {
   "cell_type": "code",
   "execution_count": null,
   "metadata": {},
   "outputs": [],
   "source": [
    "signal = thinkdsp.TriangleSignal(200)\n",
    "duration = signal.period*3\n",
    "segment = signal.make_wave(duration, framerate=10000)\n",
    "segment.plot()"
   ]
  },
  {
   "cell_type": "markdown",
   "metadata": {},
   "source": [
    "สร้างสัญญาณเสียงและเล่น"
   ]
  },
  {
   "cell_type": "code",
   "execution_count": null,
   "metadata": {},
   "outputs": [],
   "source": [
    "wave = signal.make_wave(duration=0.5, framerate=10000)\n",
    "wave.apodize()\n",
    "wave.make_audio()"
   ]
  },
  {
   "cell_type": "markdown",
   "metadata": {},
   "source": [
    "คำนวณและพล็อตสเปกตรัม"
   ]
  },
  {
   "cell_type": "code",
   "execution_count": null,
   "metadata": {},
   "outputs": [],
   "source": [
    "spectrum = wave.make_spectrum()\n",
    "spectrum.plot()"
   ]
  },
  {
   "cell_type": "markdown",
   "metadata": {},
   "source": [
    "สร้างสัญญาณรูปสี่เหลี่ยม(square signal) และพล็อตส่วนย่อยของสัญญาณจำนวน 3 คาบ"
   ]
  },
  {
   "cell_type": "code",
   "execution_count": null,
   "metadata": {},
   "outputs": [],
   "source": [
    "signal = thinkdsp.SquareSignal(200)\n",
    "duration = signal.period*3\n",
    "segment = signal.make_wave(duration, framerate=10000)\n",
    "segment.plot()\n",
    "thinkplot.config(ylim=[-1.05, 1.05], legend=False)"
   ]
  },
  {
   "cell_type": "markdown",
   "metadata": {},
   "source": [
    "สร้างสัญญาณเสียงและเล่น"
   ]
  },
  {
   "cell_type": "code",
   "execution_count": null,
   "metadata": {},
   "outputs": [],
   "source": [
    "wave = signal.make_wave(duration=0.5, framerate=10000)\n",
    "wave.apodize()\n",
    "wave.make_audio()"
   ]
  },
  {
   "cell_type": "markdown",
   "metadata": {},
   "source": [
    "คำนวณและพล็อตสเปกตรัม"
   ]
  },
  {
   "cell_type": "code",
   "execution_count": null,
   "metadata": {},
   "outputs": [],
   "source": [
    "spectrum = wave.make_spectrum()\n",
    "spectrum.plot()"
   ]
  },
  {
   "cell_type": "markdown",
   "metadata": {},
   "source": [
    "สร้างสัญญาณรูปฟันเลื่อยสี่เหลี่ยม(sawtooth signal ) และพล็อตส่วนย่อยของสัญญาณจำนวน 3 คาบ"
   ]
  },
  {
   "cell_type": "code",
   "execution_count": null,
   "metadata": {},
   "outputs": [],
   "source": [
    "signal = thinkdsp.SawtoothSignal(200)\n",
    "duration = signal.period*3\n",
    "segment = signal.make_wave(duration, framerate=10000)\n",
    "segment.plot()"
   ]
  },
  {
   "cell_type": "markdown",
   "metadata": {},
   "source": [
    "สร้างสัญญาณเสียงและเล่น"
   ]
  },
  {
   "cell_type": "code",
   "execution_count": null,
   "metadata": {},
   "outputs": [],
   "source": [
    "wave = signal.make_wave(duration=0.5, framerate=10000)\n",
    "wave.apodize()\n",
    "wave.make_audio()"
   ]
  },
  {
   "cell_type": "markdown",
   "metadata": {},
   "source": [
    "คำนวณและพล็อตสเปกตรัม"
   ]
  },
  {
   "cell_type": "code",
   "execution_count": null,
   "metadata": {
    "scrolled": true
   },
   "outputs": [],
   "source": [
    "spectrum = wave.make_spectrum()\n",
    "spectrum.plot()"
   ]
  },
  {
   "cell_type": "markdown",
   "metadata": {},
   "source": [
    "### Aliasing\n",
    "\n",
    "สร้างสัญญาณสัญญาณโคไซน์ที่มีความถี่ 4500 Hz และสร้างรูปคลื่นสัญญาณด้วย framerate 10 kHz และพล็อตออกมาจำนวน 5 คาบ"
   ]
  },
  {
   "cell_type": "code",
   "execution_count": null,
   "metadata": {},
   "outputs": [],
   "source": [
    "framerate = 10000\n",
    "\n",
    "signal = thinkdsp.CosSignal(4500)\n",
    "duration = signal.period*5\n",
    "segment = signal.make_wave(duration, framerate=framerate)\n",
    "segment.plot()"
   ]
  },
  {
   "cell_type": "markdown",
   "metadata": {},
   "source": [
    "สร้างสัญญาณสัญญาณโคไซน์ที่มีความถี่ 5500 Hz และสร้างรูปคลื่นสัญญาณด้วย framerate 10 kHz และนำสัญญาณในช่วงเวลาเดียวกันไปพล็อต\n",
    "ด้วย framerate ที่  10 kHz เท่ากัน ความถี่ในการเคลื่อนที่ของสัญญาณคือ 5 kHz (รอบต่อวินาที) ดังนั้นสัญญาณ 4500 Hz และสัญญาณ 5500 Hz จะเหมือนกันทุกประการ"
   ]
  },
  {
   "cell_type": "code",
   "execution_count": null,
   "metadata": {},
   "outputs": [],
   "source": [
    "signal = thinkdsp.CosSignal(5500)\n",
    "segment = signal.make_wave(duration, framerate=framerate)\n",
    "segment.plot()"
   ]
  },
  {
   "cell_type": "markdown",
   "metadata": {},
   "source": [
    "สร้างสัญญาณรูปสามเหลี่ยม(triangle signal) และพล็อตสเปคตรัม มาดูกันว่าฮาร์มอนิกมีการเคลื่อนที่อย่างไร?"
   ]
  },
  {
   "cell_type": "code",
   "execution_count": null,
   "metadata": {},
   "outputs": [],
   "source": [
    "signal = thinkdsp.TriangleSignal(1100)\n",
    "segment = signal.make_wave(duration=0.5, framerate=10000)\n",
    "spectrum = segment.make_spectrum()\n",
    "spectrum.plot()"
   ]
  },
  {
   "cell_type": "markdown",
   "metadata": {},
   "source": [
    "## แอมพลิจูดและเฟส (Amplitude and phase)\n",
    "\n",
    "สร้างสัญญาณรูปฟันเลื่อย (Sawtooth waveform)"
   ]
  },
  {
   "cell_type": "code",
   "execution_count": null,
   "metadata": {},
   "outputs": [],
   "source": [
    "signal = thinkdsp.SawtoothSignal(500)\n",
    "wave = signal.make_wave(duration=1, framerate=10000)\n",
    "segment = wave.segment(duration=0.005)\n",
    "segment.plot()"
   ]
  },
  {
   "cell_type": "markdown",
   "metadata": {},
   "source": [
    "ลองเล่นสัญญาณเสียงดังกล่าว"
   ]
  },
  {
   "cell_type": "code",
   "execution_count": null,
   "metadata": {
    "scrolled": true
   },
   "outputs": [],
   "source": [
    "wave.make_audio()"
   ]
  },
  {
   "cell_type": "markdown",
   "metadata": {},
   "source": [
    "หาค่าอาร์เรย์ของคลื่นและคำนวณ FFT ตามสัญญาณที่เข้าจริง (ซึ่งเป็นเพียง FFT ที่ปรับให้เหมาะกับข้อมูลที่เข้าสู่ระบบ)"
   ]
  },
  {
   "cell_type": "code",
   "execution_count": null,
   "metadata": {},
   "outputs": [],
   "source": [
    "import numpy as np\n",
    "\n",
    "hs = np.fft.rfft(wave.ys)\n",
    "hs"
   ]
  },
  {
   "cell_type": "markdown",
   "metadata": {},
   "source": [
    "คำนวณความถี่ที่ตรงกับค่าของ FFT "
   ]
  },
  {
   "cell_type": "code",
   "execution_count": null,
   "metadata": {},
   "outputs": [],
   "source": [
    "n = len(wave.ys)                 # number of samples\n",
    "d = 1 / wave.framerate           # time between samples\n",
    "fs = np.fft.rfftfreq(n, d)\n",
    "fs"
   ]
  },
  {
   "cell_type": "markdown",
   "metadata": {},
   "source": [
    "พล็อตค่าที่ได้:ความสูงของคลื่น (magnitudes) เทียบกับความถี่(frequencies)"
   ]
  },
  {
   "cell_type": "code",
   "execution_count": null,
   "metadata": {},
   "outputs": [],
   "source": [
    "magnitude = np.absolute(hs)\n",
    "thinkplot.plot(fs, magnitude)"
   ]
  },
  {
   "cell_type": "code",
   "execution_count": null,
   "metadata": {},
   "outputs": [],
   "source": [
    "angle = np.angle(hs)\n",
    "thinkplot.plot(fs, angle)"
   ]
  },
  {
   "cell_type": "code",
   "execution_count": null,
   "metadata": {},
   "outputs": [],
   "source": []
  }
 ],
 "metadata": {
  "kernelspec": {
   "display_name": "Python 3",
   "language": "python",
   "name": "python3"
  },
  "language_info": {
   "codemirror_mode": {
    "name": "ipython",
    "version": 3
   },
   "file_extension": ".py",
   "mimetype": "text/x-python",
   "name": "python",
   "nbconvert_exporter": "python",
   "pygments_lexer": "ipython3",
   "version": "3.6.3"
  }
 },
 "nbformat": 4,
 "nbformat_minor": 1
}
